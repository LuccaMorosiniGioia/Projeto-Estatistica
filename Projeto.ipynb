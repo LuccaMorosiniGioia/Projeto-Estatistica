{
  "nbformat": 4,
  "nbformat_minor": 0,
  "metadata": {
    "colab": {
      "name": "Cópia de projeto.ipynb",
      "provenance": [],
      "include_colab_link": true
    },
    "kernelspec": {
      "name": "python3",
      "display_name": "Python 3"
    },
    "language_info": {
      "name": "python"
    }
  },
  "cells": [
    {
      "cell_type": "markdown",
      "metadata": {
        "id": "view-in-github",
        "colab_type": "text"
      },
      "source": [
        "<a href=\"https://colab.research.google.com/github/LuccaMorosiniGioia/Projeto-Estatistica/blob/main/Projeto.ipynb\" target=\"_parent\"><img src=\"https://colab.research.google.com/assets/colab-badge.svg\" alt=\"Open In Colab\"/></a>"
      ]
    },
    {
      "cell_type": "code",
      "metadata": {
        "id": "yd-AwD0FyD_q"
      },
      "source": [
        "import pandas as pd # manipulação de dados\n",
        "import numpy as np # operação com arrays\n",
        "import matplotlib.pyplot as plt # gráficos\n",
        "import seaborn as sns # gráficos\n",
        "import time\n",
        "from sklearn.model_selection import train_test_split # separa o subset que será treinado do que será testado\n",
        "from sklearn.naive_bayes import GaussianNB # classificador que será usado\n",
        "\n",
        "df = pd.read_csv('/content/drive/MyDrive/ProjetoEstatística/breast-cancer - breast-cancer.csv')"
      ],
      "execution_count": null,
      "outputs": []
    }
  ]
}